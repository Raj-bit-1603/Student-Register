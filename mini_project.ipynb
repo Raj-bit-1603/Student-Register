{
  "nbformat": 4,
  "nbformat_minor": 0,
  "metadata": {
    "colab": {
      "provenance": [],
      "collapsed_sections": [
        "JHoHw2wwivMw"
      ],
      "authorship_tag": "ABX9TyNMk64ZqyxunOgSQ84Zbby4",
      "include_colab_link": true
    },
    "kernelspec": {
      "name": "python3",
      "display_name": "Python 3"
    },
    "language_info": {
      "name": "python"
    }
  },
  "cells": [
    {
      "cell_type": "markdown",
      "metadata": {
        "id": "view-in-github",
        "colab_type": "text"
      },
      "source": [
        "<a href=\"https://colab.research.google.com/github/Raj-bit-1603/Student-Register/blob/main/mini_project.ipynb\" target=\"_parent\"><img src=\"https://colab.research.google.com/assets/colab-badge.svg\" alt=\"Open In Colab\"/></a>"
      ]
    },
    {
      "cell_type": "code",
      "execution_count": null,
      "metadata": {
        "colab": {
          "base_uri": "https://localhost:8080/"
        },
        "id": "FtwJM_r0ZIVE",
        "outputId": "40657a84-2f31-44a4-9d60-ac385eeb8d23"
      },
      "outputs": [
        {
          "output_type": "stream",
          "name": "stdout",
          "text": [
            "93\n"
          ]
        }
      ],
      "source": [
        "# Random number genrator\n",
        "import random\n",
        "radNum = random.randint(1,100)\n",
        "print(radNum)"
      ]
    },
    {
      "cell_type": "markdown",
      "source": [
        "# **Project**"
      ],
      "metadata": {
        "id": "JHoHw2wwivMw"
      }
    },
    {
      "cell_type": "code",
      "source": [
        "# Guess the number\n",
        "import random\n",
        "\n",
        "Target = random.randint(1,100)\n",
        "\n",
        "while True:\n",
        "  userChoice =(input(\"Guess the number  and quit the game by (Q): \"))\n",
        "  if (userChoice==\"Quit\"):\n",
        "    break\n",
        "\n",
        "  userChoice=int(userChoice)\n",
        "  if (userChoice==Target):\n",
        "    print(\"Success : You are correct!!\",Target)\n",
        "    break\n",
        "  elif (userChoice<Target):\n",
        "    print(\"Your number are very smaller : Guess again__! \\n Guess a bigger number\")\n",
        "  else :\n",
        "    print(\"your number are very bigger : Guess again__! \\n Guess a smaller number\")\n",
        "\n",
        "\n",
        "print(\"__Game__Over__!\")\n"
      ],
      "metadata": {
        "colab": {
          "base_uri": "https://localhost:8080/"
        },
        "id": "lVB6bMnjeEWo",
        "outputId": "f1d9a7a6-2aec-4844-a5cd-eb1becf9750e"
      },
      "execution_count": null,
      "outputs": [
        {
          "output_type": "stream",
          "name": "stdout",
          "text": [
            "Guess the number  and quit the game by (Q): 56\n",
            "your number are very bigger : Guess again__! \n",
            " Guess a smaller number\n",
            "Guess the number  and quit the game by (Q): Quit\n",
            "__Game__Over__!\n"
          ]
        }
      ]
    },
    {
      "cell_type": "markdown",
      "source": [
        "# **random password genrator**"
      ],
      "metadata": {
        "id": "_mfzMeLHlEPU"
      }
    },
    {
      "cell_type": "code",
      "source": [
        "# random password genrate\n",
        "import random\n",
        "import string\n",
        "\n",
        "length=12\n",
        "password=\"\"\n",
        "for i in range(length):\n",
        "  string1=string.ascii_letters + string.punctuation + string.digits\n",
        "  password+=random.choice(string1)\n",
        "\n",
        "print(\"your random password is : \",password)"
      ],
      "metadata": {
        "colab": {
          "base_uri": "https://localhost:8080/"
        },
        "id": "z2iI9NIUlBk7",
        "outputId": "a7dd3b81-fc9f-4743-beaa-799abee8cab7"
      },
      "execution_count": null,
      "outputs": [
        {
          "output_type": "stream",
          "name": "stdout",
          "text": [
            "your random password is :  $M'GosY~/m*j\n"
          ]
        }
      ]
    },
    {
      "cell_type": "code",
      "source": [
        "# random password genrate\n",
        "import random\n",
        "import string\n",
        "\n",
        "length=12\n",
        "password=[random.choice(string1)  for i in range(length)]   #list comprehension\n",
        "\n",
        "print(password)\n",
        "# for i in range(length):\n",
        "#   string1=string.ascii_letters + string.punctuation + string.digits\n",
        "#   password+=random.choice(string1)\n",
        "\n",
        "# print(\"your random password is : \",password)"
      ],
      "metadata": {
        "colab": {
          "base_uri": "https://localhost:8080/"
        },
        "id": "HIXhbM_Is1MC",
        "outputId": "1ca9a75c-23da-4da4-cb49-23614b829c90"
      },
      "execution_count": null,
      "outputs": [
        {
          "output_type": "stream",
          "name": "stdout",
          "text": [
            "['t', 'P', 'q', ']', 'y', 'W', '7', '2', 'a', 'C', 'c', '&']\n"
          ]
        }
      ]
    },
    {
      "cell_type": "markdown",
      "source": [
        "# **Inventry Mangement System**"
      ],
      "metadata": {
        "id": "eYcp58YUD03-"
      }
    },
    {
      "cell_type": "code",
      "source": [
        "# Inventry Management System\n",
        "\n",
        "db={}\n",
        "\n",
        "dic={\"id\":30,\"name\":35,\"register\":1}\n",
        "dic[\"name\"]\n",
        "\n",
        "# Server (backend)\n",
        "\n",
        "# Add function\n",
        "\n",
        "def AddStudentid(name,register):\n",
        "  if name in db.keys():\n",
        "    db[name]+=register\n",
        "  else:\n",
        "    db[name]=register\n",
        "    print(f\"{name} are present in {register} hasbeen added in database\")\n",
        "\n",
        "# Open Inventery\n",
        "\n",
        "def NameOfSudent():\n",
        "  for name,value in db.items():\n",
        "    print(f\"student are present name : {name} id is {value}\")\n",
        "\n",
        "def Apsent(name):\n",
        "  if name in db.keys():\n",
        "    del db[name]\n",
        "\n",
        "# def Present():\n",
        "#   if name in db.keys():\n",
        "#     db[name]-=register\n",
        "#   else:\n",
        "#     print(\"ye nhi ayaa aaj bhi\")\n",
        "\n",
        "\n",
        "# Client (Frontend)\n",
        "\n",
        "def main():\n",
        "  number=True\n",
        "  while number!=False:\n",
        "    print(\"*\"*30,\"Attendence Register\",\"*\"*30)\n",
        "    print(\"___\"*50)\n",
        "    print(\"STUDENT ID \")\n",
        "    print(\"1. student present\")\n",
        "    print(\"2.show present student name and id\")\n",
        "    print(\"3.Apsent student\")\n",
        "    print(\"4. present\")\n",
        "    print(\"5. Logot\")\n",
        "\n",
        "    choice=int(input(\"enter choice do you want to be register\"))\n",
        "    if(choice==1):\n",
        "      name1=input(\"Enter student name\")\n",
        "      register = int(input(\"enter id\"))\n",
        "      AddStudentid(name1,register)\n",
        "    elif(choice==2):\n",
        "      NameOfSudent()\n",
        "    elif(choice==3):\n",
        "      name=input(\"Enter student name they are apsent\")\n",
        "      Apsent(name)\n",
        "    # elif(choice==4):\n",
        "    #   name1=input(\"enter student name they are not present\")\n",
        "    #   register=int(input(\"enter id\"))\n",
        "    #   Present(name1,register)\n",
        "    elif (choice==5):\n",
        "      number=False\n",
        "    else:\n",
        "      print(\"INCORRECT OPTION YOU ARE CHOICE\")\n",
        "\n",
        "\n",
        "# Main Run code\n",
        "if __name__==\"__main__\":\n",
        "  main()\n",
        "\n",
        "\n",
        "\n"
      ],
      "metadata": {
        "id": "YKgEXDBSD64U",
        "outputId": "fc4fde0f-fb8b-4f85-d2c8-a7dfd627847b",
        "colab": {
          "base_uri": "https://localhost:8080/"
        }
      },
      "execution_count": null,
      "outputs": [
        {
          "output_type": "stream",
          "name": "stdout",
          "text": [
            "****************************** Attendence Register ******************************\n",
            "______________________________________________________________________________________________________________________________________________________\n",
            "STUDENT ID \n",
            "1. student present\n",
            "2.show present student name and id\n",
            "3.Apsent student\n",
            "4. present\n",
            "5. Logot\n",
            "enter choice do you want to be register1\n",
            "Enter student nameSakshi\n",
            "enter id175\n",
            "Sakshi are present in 175 hasbeen added in database\n",
            "****************************** Attendence Register ******************************\n",
            "______________________________________________________________________________________________________________________________________________________\n",
            "STUDENT ID \n",
            "1. student present\n",
            "2.show present student name and id\n",
            "3.Apsent student\n",
            "4. present\n",
            "5. Logot\n"
          ]
        }
      ]
    }
  ]
}